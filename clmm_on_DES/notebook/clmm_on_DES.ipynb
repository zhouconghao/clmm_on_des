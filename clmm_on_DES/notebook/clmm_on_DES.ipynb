{
 "cells": [
  {
   "cell_type": "code",
   "execution_count": 1,
   "metadata": {},
   "outputs": [],
   "source": [
    "import clmm"
   ]
  },
  {
   "cell_type": "code",
   "execution_count": 4,
   "metadata": {},
   "outputs": [
    {
     "ename": "ModuleNotFoundError",
     "evalue": "No module named 'fitsio'",
     "output_type": "error",
     "traceback": [
      "\u001b[0;31m---------------------------------------------------------------------------\u001b[0m",
      "\u001b[0;31mModuleNotFoundError\u001b[0m                       Traceback (most recent call last)",
      "\u001b[0;32m/tmp/ipykernel_31532/3186508345.py\u001b[0m in \u001b[0;36m<module>\u001b[0;34m\u001b[0m\n\u001b[1;32m      5\u001b[0m \u001b[0;32mfrom\u001b[0m \u001b[0mpathlib\u001b[0m \u001b[0;32mimport\u001b[0m \u001b[0mPath\u001b[0m\u001b[0;34m\u001b[0m\u001b[0;34m\u001b[0m\u001b[0m\n\u001b[1;32m      6\u001b[0m \u001b[0;32mfrom\u001b[0m \u001b[0mastropy\u001b[0m\u001b[0;34m.\u001b[0m\u001b[0mio\u001b[0m \u001b[0;32mimport\u001b[0m \u001b[0mfits\u001b[0m\u001b[0;34m\u001b[0m\u001b[0;34m\u001b[0m\u001b[0m\n\u001b[0;32m----> 7\u001b[0;31m \u001b[0;32mimport\u001b[0m \u001b[0mfitsio\u001b[0m \u001b[0;32mas\u001b[0m \u001b[0mfio\u001b[0m\u001b[0;34m\u001b[0m\u001b[0;34m\u001b[0m\u001b[0m\n\u001b[0m",
      "\u001b[0;31mModuleNotFoundError\u001b[0m: No module named 'fitsio'"
     ]
    }
   ],
   "source": [
    "import numpy as np \n",
    "import matplotlib.pyplot as plt\n",
    "from astropy.table import Table\n",
    "import pickle as pkl\n",
    "from pathlib import Path\n",
    "from astropy.io import fits\n",
    "import fitsio as fio"
   ]
  },
  {
   "cell_type": "code",
   "execution_count": 16,
   "metadata": {},
   "outputs": [],
   "source": [
    "CLUSTER_FITS_PATH = \"/global/cfs/cdirs/des/zhou/clmm/clmm_on_DES/data/redmapper_y1a1_public_v6.4_catalog.fits\"\n",
    "MEMBER_FITS_PATH = \"/global/cfs/cdirs/des/zhou/clmm/clmm_on_DES/data/redmapper_y1a1_public_v6.4_members.fits\"\n",
    "RANDOM_FITS_PATH = \"/global/cfs/cdirs/des/zhou/clmm/clmm_on_DES/data/redmapper_y1a1_public_v6.4_randoms.fits\""
   ]
  },
  {
   "cell_type": "code",
   "execution_count": 17,
   "metadata": {},
   "outputs": [],
   "source": [
    "cluster_table = Table(fits.open(CLUSTER_FITS_PATH)[1].data)\n",
    "member_table = Table(fits.open(MEMBER_FITS_PATH)[1].data)\n",
    "random_table = Table(fits.open(RANDOM_FITS_PATH)[1].data)\n"
   ]
  },
  {
   "cell_type": "code",
   "execution_count": 19,
   "metadata": {},
   "outputs": [
    {
     "data": {
      "text/plain": [
       "<TableColumns names=('ID','NAME','RA','DEC','Z_LAMBDA','Z_LAMBDA_ERR','LAMBDA','LAMBDA_ERR','S','Z_SPEC','COADD_OBJECTS_ID','MAG_AUTO_G','MAGERR_AUTO_G','MAG_AUTO_R','MAGERR_AUTO_R','MAG_AUTO_I','MAGERR_AUTO_I','MAG_AUTO_Z','MAGERR_AUTO_Z','ZLUM','P_CEN','RA_CEN','DEC_CEN','ID_CEN','PZBINS','PZ')>"
      ]
     },
     "execution_count": 19,
     "metadata": {},
     "output_type": "execute_result"
    }
   ],
   "source": [
    "cluster_table.columns"
   ]
  },
  {
   "cell_type": "code",
   "execution_count": 28,
   "metadata": {},
   "outputs": [
    {
     "data": {
      "image/png": "[encoded data removed]",
      "text/plain": [
       "<Figure size 432x288 with 1 Axes>"
      ]
     },
     "metadata": {
      "needs_background": "light"
     },
     "output_type": "display_data"
    }
   ],
   "source": [
    "plt.hist(cluster_table['LAMBDA'], bins=20);"
   ]
  },
  {
   "cell_type": "code",
   "execution_count": 34,
   "metadata": {},
   "outputs": [],
   "source": [
    "cluster_table.sort('LAMBDA')\n",
    "cluster_table.reverse()\n",
    "z_mask = np.logical_and(cluster_table['Z_LAMBDA'] > 0.3, cluster_table['Z_LAMBDA'] < 0.6)"
   ]
  },
  {
   "cell_type": "code",
   "execution_count": 35,
   "metadata": {},
   "outputs": [
    {
     "data": {
      "text/html": [
       "<div><i>Table length=4906</i>\n",
       "<table id=\"table23446877016320\" class=\"table-striped table-bordered table-condensed\">\n",
       "<thead><tr><th>ID</th><th>NAME</th><th>RA</th><th>DEC</th><th>Z_LAMBDA</th><th>Z_LAMBDA_ERR</th><th>LAMBDA</th><th>LAMBDA_ERR</th><th>S</th><th>Z_SPEC</th><th>COADD_OBJECTS_ID</th><th>MAG_AUTO_G</th><th>MAGERR_AUTO_G</th><th>MAG_AUTO_R</th><th>MAGERR_AUTO_R</th><th>MAG_AUTO_I</th><th>MAGERR_AUTO_I</th><th>MAG_AUTO_Z</th><th>MAGERR_AUTO_Z</th><th>ZLUM</th><th>P_CEN [5]</th><th>RA_CEN [5]</th><th>DEC_CEN [5]</th><th>ID_CEN [5]</th><th>PZBINS [21]</th><th>PZ [21]</th></tr></thead>\n",
       "<thead><tr><th>int32</th><th>str20</th><th>float64</th><th>float64</th><th>float32</th><th>float32</th><th>float32</th><th>float32</th><th>float32</th><th>float32</th><th>int64</th><th>float32</th><th>float32</th><th>float32</th><th>float32</th><th>float32</th><th>float32</th><th>float32</th><th>float32</th><th>float32</th><th>float32</th><th>float32</th><th>float32</th><th>int64</th><th>float32</th><th>float32</th></tr></thead>\n",
       "<tr><td>1</td><td>RMJ025415.5-585710.7</td><td>43.564574</td><td>-58.95297</td><td>0.429804</td><td>0.012092354</td><td>234.50368</td><td>7.524398</td><td>1.0567604</td><td>-1.0</td><td>3089939451</td><td>20.175312</td><td>0.01691545</td><td>18.321383</td><td>0.008135756</td><td>17.693726</td><td>0.008199731</td><td>17.325676</td><td>0.008411231</td><td>-1.0</td><td>0.9991055 .. 6.590104e-05</td><td>43.564575 .. 43.557</td><td>-58.95297 .. -58.939064</td><td>3089939451 .. 3089940037</td><td>0.36146685 .. 0.4981411</td><td>4.062646e-06 .. 2.3250898e-06</td></tr>\n",
       "<tr><td>2</td><td>RMJ051637.4-543001.6</td><td>79.155704</td><td>-54.500456</td><td>0.30416065</td><td>0.007928145</td><td>195.06956</td><td>6.777896</td><td>1.0545249</td><td>-1.0</td><td>3047101906</td><td>19.667797</td><td>0.0067870687</td><td>17.954527</td><td>0.0021536204</td><td>17.444197</td><td>0.0021800548</td><td>17.169514</td><td>0.0028993362</td><td>-1.0</td><td>0.8244598 .. 2.1973678e-05</td><td>79.1557 .. 79.16356</td><td>-54.500458 .. -54.52652</td><td>3047101906 .. 3047099245</td><td>0.25879675 .. 0.34952456</td><td>7.912388e-06 .. 3.3386082e-06</td></tr>\n",
       "<tr><td>5</td><td>RMJ224851.8-443106.3</td><td>342.215897</td><td>-44.518403</td><td>0.3514858</td><td>0.010535383</td><td>178.83827</td><td>8.7123</td><td>1.1754017</td><td>-1.0</td><td>3138662814</td><td>19.863644</td><td>0.008220169</td><td>18.214876</td><td>0.0039397366</td><td>17.675528</td><td>0.003998268</td><td>17.349815</td><td>0.005363237</td><td>-1.0</td><td>0.50827235 .. 0.0016751448</td><td>342.2159 .. 342.17935</td><td>-44.518402 .. -44.532623</td><td>3138662814 .. 3138662231</td><td>0.28765273 .. 0.41531885</td><td>4.608477e-08 .. 2.238404e-06</td></tr>\n",
       "<tr><td>3</td><td>RMJ041111.0-481939.6</td><td>62.795694</td><td>-48.327672</td><td>0.41936922</td><td>0.0126486905</td><td>174.4601</td><td>5.073172</td><td>1.0207323</td><td>-1.0</td><td>3069562192</td><td>19.57539</td><td>0.0097799525</td><td>17.845314</td><td>0.0045951866</td><td>17.2277</td><td>0.0046880525</td><td>16.868717</td><td>0.005000044</td><td>-1.0</td><td>0.9990237 .. 6.464364e-07</td><td>62.795692 .. 62.84126</td><td>-48.32767 .. -48.31802</td><td>3069562192 .. 3069562335</td><td>0.3485327 .. 0.4902058</td><td>4.3809223e-06 .. 4.7627004e-06</td></tr>\n",
       "<tr><td>12</td><td>RMJ203510.7-525123.2</td><td>308.794628</td><td>-52.856438</td><td>0.52620196</td><td>0.006566591</td><td>160.334</td><td>6.451848</td><td>1.0458225</td><td>-1.0</td><td>3157162066</td><td>21.725101</td><td>0.03314218</td><td>20.020185</td><td>0.014777467</td><td>19.231045</td><td>0.013324427</td><td>18.819477</td><td>0.016204402</td><td>-1.0</td><td>0.819629 .. 0.029692747</td><td>308.79462 .. 308.7884</td><td>-52.856438 .. -52.854816</td><td>3157162066 .. 3157162109</td><td>0.48873544 .. 0.5636685</td><td>3.2620524e-06 .. 3.7363925e-06</td></tr>\n",
       "<tr><td>4</td><td>RMJ024524.8-530145.4</td><td>41.353375</td><td>-53.029288</td><td>0.30112934</td><td>0.007854857</td><td>146.2384</td><td>4.0440307</td><td>1.0090224</td><td>-1.0</td><td>3092286075</td><td>18.86145</td><td>0.0067323875</td><td>17.305017</td><td>0.003943404</td><td>16.79262</td><td>0.0041245758</td><td>16.46946</td><td>0.0051363693</td><td>-1.0</td><td>0.9967264 .. 2.012041e-06</td><td>41.353374 .. 41.40372</td><td>-53.02929 .. -53.046795</td><td>3092286075 .. 3092283521</td><td>0.25603127 .. 0.3462274</td><td>8.695419e-06 .. 2.9346218e-06</td></tr>\n",
       "<tr><td>17</td><td>RMJ234447.5-424352.3</td><td>356.197831</td><td>-42.731201</td><td>0.5911942</td><td>0.007976438</td><td>144.8807</td><td>5.51211</td><td>1.0255624</td><td>-1.0</td><td>3129061131</td><td>22.750273</td><td>0.049876068</td><td>20.869778</td><td>0.018141732</td><td>19.897768</td><td>0.022519704</td><td>19.41929</td><td>0.017377643</td><td>-1.0</td><td>0.74780816 .. 0.024859807</td><td>356.19785 .. 356.18735</td><td>-42.7312 .. -42.72735</td><td>3129061131 .. 3129061248</td><td>0.5417897 .. 0.64059865</td><td>1.1417643e-08 .. 5.748652e-06</td></tr>\n",
       "<tr><td>10</td><td>RMJ213512.1-010258.5</td><td>323.800394</td><td>-1.04959</td><td>0.32642642</td><td>0.008996381</td><td>141.08221</td><td>5.9649954</td><td>1.0744022</td><td>-1.0</td><td>3010448045</td><td>18.580114</td><td>0.007509038</td><td>16.984154</td><td>0.0050856336</td><td>16.433153</td><td>0.0049757827</td><td>16.105667</td><td>0.005426338</td><td>-1.0</td><td>0.99995905 .. 7.267292e-06</td><td>323.80038 .. 323.81174</td><td>-1.04959 .. -1.038666</td><td>3010448045 .. 3010451270</td><td>0.27381036 .. 0.37904242</td><td>1.6013972e-06 .. 7.143569e-06</td></tr>\n",
       "<tr><td>21</td><td>RMJ004103.6-442958.7</td><td>10.265017</td><td>-44.499638999999995</td><td>0.3478976</td><td>0.010397791</td><td>139.9381</td><td>7.4948587</td><td>1.142297</td><td>-1.0</td><td>3119773430</td><td>19.854128</td><td>0.00896411</td><td>18.226444</td><td>0.0066343877</td><td>17.686216</td><td>0.0067402385</td><td>17.392765</td><td>0.00715903</td><td>-1.0</td><td>0.56688815 .. 0.01179698</td><td>10.265017 .. 10.259049</td><td>-44.499638 .. -44.490196</td><td>3119773430 .. 3119773873</td><td>0.28333217 .. 0.412463</td><td>1.55002e-08 .. 1.7606976e-06</td></tr>\n",
       "<tr><td>6</td><td>RMJ004050.0-440750.3</td><td>10.208211</td><td>-44.130646999999996</td><td>0.3678793</td><td>0.011693054</td><td>139.17534</td><td>4.669488</td><td>1.0365119</td><td>0.35066</td><td>3119806344</td><td>19.81441</td><td>0.007690683</td><td>18.087616</td><td>0.005104973</td><td>17.503254</td><td>0.0050828727</td><td>17.159714</td><td>0.0058177346</td><td>-1.0</td><td>0.95453984 .. 0.00026302575</td><td>10.208211 .. 10.197196</td><td>-44.130646 .. -44.12373</td><td>3119806344 .. 3119806445</td><td>0.29608956 .. 0.43966907</td><td>1.0723813e-08 .. 1.7162017e-06</td></tr>\n",
       "<tr><td>...</td><td>...</td><td>...</td><td>...</td><td>...</td><td>...</td><td>...</td><td>...</td><td>...</td><td>...</td><td>...</td><td>...</td><td>...</td><td>...</td><td>...</td><td>...</td><td>...</td><td>...</td><td>...</td><td>...</td><td>...</td><td>...</td><td>...</td><td>...</td><td>...</td><td>...</td></tr>\n",
       "<tr><td>3833</td><td>RMJ003445.3-591036.4</td><td>8.688647</td><td>-59.176778</td><td>0.5815377</td><td>0.010103211</td><td>20.003485</td><td>3.2951329</td><td>1.02147</td><td>-1.0</td><td>3121611756</td><td>21.357851</td><td>0.024475405</td><td>19.70429</td><td>0.012290426</td><td>18.840954</td><td>0.0115165645</td><td>18.396254</td><td>0.013001834</td><td>-1.0</td><td>0.5186105 .. 0.00047856936</td><td>8.688647 .. 8.682242</td><td>-59.176777 .. -59.182076</td><td>3121611756 .. 3121611357</td><td>0.51094586 .. 0.65212965</td><td>9.8453114e-11 .. 3.5507433e-06</td></tr>\n",
       "<tr><td>11976</td><td>RMJ053853.4-542407.7</td><td>84.722371</td><td>-54.402148</td><td>0.5734102</td><td>0.010762995</td><td>20.003485</td><td>2.4015553</td><td>1.0066088</td><td>-1.0</td><td>3040481531</td><td>21.3874</td><td>0.03150114</td><td>19.573202</td><td>0.010218436</td><td>18.674858</td><td>0.009341633</td><td>18.237793</td><td>0.00996377</td><td>-1.0</td><td>0.91697985 .. 0.00038085325</td><td>84.722374 .. 84.73672</td><td>-54.40215 .. -54.39007</td><td>3040481531 .. 3040482014</td><td>0.4967022 .. 0.6501182</td><td>8.5501536e-11 .. 3.4668592e-06</td></tr>\n",
       "<tr><td>13407</td><td>RMJ021105.5-425156.1</td><td>32.77283</td><td>-42.865597</td><td>0.51430786</td><td>0.01022973</td><td>20.003485</td><td>2.341528</td><td>0.99842954</td><td>-1.0</td><td>3100231708</td><td>21.595827</td><td>0.022921257</td><td>19.778793</td><td>0.009084623</td><td>19.047565</td><td>0.009510442</td><td>18.677883</td><td>0.010322128</td><td>-1.0</td><td>0.9918848 .. 8.116523e-06</td><td>32.77283 .. 32.769386</td><td>-42.865597 .. -42.87504</td><td>3100231708 .. 3100230953</td><td>0.4547555 .. 0.5738602</td><td>1.2533497e-08 .. 1.7464507e-06</td></tr>\n",
       "<tr><td>17444</td><td>RMJ032431.0-592948.0</td><td>51.128961</td><td>-59.496669999999995</td><td>0.51749814</td><td>0.0108477315</td><td>20.003485</td><td>2.6222987</td><td>1.0118374</td><td>-1.0</td><td>3083043755</td><td>21.8824</td><td>0.039323233</td><td>20.240116</td><td>0.017776491</td><td>19.471157</td><td>0.017107885</td><td>19.061241</td><td>0.018050548</td><td>-1.0</td><td>0.50119746 .. 0.00057753</td><td>51.12896 .. 51.169678</td><td>-59.49667 .. -59.471283</td><td>3083043755 .. 3083046028</td><td>0.45619056 .. 0.5788057</td><td>6.0225474e-08 .. 1.781552e-06</td></tr>\n",
       "<tr><td>14722</td><td>RMJ050830.2-520414.5</td><td>77.126021</td><td>-52.070702999999995</td><td>0.55653346</td><td>0.009657614</td><td>20.003485</td><td>2.4962554</td><td>1.0007265</td><td>-1.0</td><td>3048727050</td><td>22.03506</td><td>0.03510987</td><td>20.240187</td><td>0.011435555</td><td>19.35991</td><td>0.010739012</td><td>18.938261</td><td>0.012080086</td><td>-1.0</td><td>0.5408045 .. 0.0004541419</td><td>77.12602 .. 77.12585</td><td>-52.0707 .. -52.07169</td><td>3048727050 .. 3048726962</td><td>0.49613535 .. 0.61693156</td><td>2.6739053e-07 .. 3.2941591e-06</td></tr>\n",
       "<tr><td>9329</td><td>RMJ215854.1-003247.1</td><td>329.725341</td><td>-0.546428</td><td>0.5458373</td><td>0.010756834</td><td>20.003485</td><td>2.4628584</td><td>0.9992256</td><td>-1.0</td><td>3010091573</td><td>21.999928</td><td>0.03328393</td><td>20.145678</td><td>0.009482577</td><td>19.375082</td><td>0.0086213965</td><td>18.964472</td><td>0.009891842</td><td>-1.0</td><td>0.9793092 .. 8.564681e-05</td><td>329.72534 .. 329.72287</td><td>-0.546428 .. -0.535575</td><td>3010091573 .. 3010092214</td><td>0.48177394 .. 0.6099006</td><td>2.6905295e-07 .. 1.7906463e-06</td></tr>\n",
       "<tr><td>13098</td><td>RMJ041709.4-480906.4</td><td>64.289211</td><td>-48.151786</td><td>0.5898465</td><td>0.011610175</td><td>20.003485</td><td>2.3705819</td><td>1.0012376</td><td>-1.0</td><td>3067724452</td><td>21.74998</td><td>0.033122275</td><td>19.90793</td><td>0.009772234</td><td>18.887512</td><td>0.00906252</td><td>18.443151</td><td>0.009537227</td><td>-1.0</td><td>0.86546236 .. 9.108173e-06</td><td>64.28921 .. 64.28935</td><td>-48.151787 .. -48.141987</td><td>3067724452 .. 3067724901</td><td>0.5040588 .. 0.67563415</td><td>3.5674788e-14 .. 3.3468943e-06</td></tr>\n",
       "<tr><td>16688</td><td>RMJ004205.3-505334.3</td><td>10.521906999999999</td><td>-50.892868</td><td>0.48916292</td><td>0.011005568</td><td>20.003485</td><td>2.369699</td><td>0.9998112</td><td>-1.0</td><td>3119695510</td><td>21.948393</td><td>0.04534005</td><td>20.352816</td><td>0.024468342</td><td>19.704277</td><td>0.02621664</td><td>19.29943</td><td>0.025360186</td><td>-1.0</td><td>0.9968549 .. 0.00010221537</td><td>10.521907 .. 10.523811</td><td>-50.892868 .. -50.892193</td><td>3119695510 .. 3119695556</td><td>0.41818875 .. 0.5601372</td><td>2.2628055e-09 .. 3.78714e-06</td></tr>\n",
       "<tr><td>15485</td><td>RMJ230948.6-473253.8</td><td>347.452531</td><td>-47.548288</td><td>0.35052612</td><td>0.012383021</td><td>20.003485</td><td>2.5332758</td><td>1.0183828</td><td>-1.0</td><td>3133824436</td><td>20.846493</td><td>0.019102693</td><td>19.12789</td><td>0.0075001065</td><td>18.583145</td><td>0.0076247575</td><td>18.283361</td><td>0.0076431087</td><td>-1.0</td><td>0.35486346 .. 0.047100887</td><td>347.45255 .. 347.38937</td><td>-47.548286 .. -47.536743</td><td>3133824436 .. 3133825032</td><td>0.26746213 .. 0.43359008</td><td>4.7101293e-13 .. 1.9833922e-06</td></tr>\n",
       "<tr><td>23424</td><td>RMJ231741.0-462526.5</td><td>349.420929</td><td>-46.424029999999995</td><td>0.31812638</td><td>0.010288121</td><td>20.003485</td><td>3.265136</td><td>1.1166791</td><td>-1.0</td><td>3132482488</td><td>20.479282</td><td>0.013049036</td><td>18.84471</td><td>0.009094669</td><td>18.289871</td><td>0.009392453</td><td>17.954725</td><td>0.009358751</td><td>-1.0</td><td>0.5024041 .. 0.011117171</td><td>349.42093 .. 349.45364</td><td>-46.42403 .. -46.432095</td><td>3132482488 .. 3132478039</td><td>0.24916689 .. 0.38708583</td><td>2.9126063e-08 .. 1.9657878e-06</td></tr>\n",
       "</table></div>"
      ],
      "text/plain": [
       "<Table length=4906>\n",
       "  ID          NAME         ...            PZ [21]            \n",
       "int32        str20         ...            float32            \n",
       "----- -------------------- ... ------------------------------\n",
       "    1 RMJ025415.5-585710.7 ...  4.062646e-06 .. 2.3250898e-06\n",
       "    2 RMJ051637.4-543001.6 ...  7.912388e-06 .. 3.3386082e-06\n",
       "    5 RMJ224851.8-443106.3 ...   4.608477e-08 .. 2.238404e-06\n",
       "    3 RMJ041111.0-481939.6 ... 4.3809223e-06 .. 4.7627004e-06\n",
       "   12 RMJ203510.7-525123.2 ... 3.2620524e-06 .. 3.7363925e-06\n",
       "    4 RMJ024524.8-530145.4 ...  8.695419e-06 .. 2.9346218e-06\n",
       "   17 RMJ234447.5-424352.3 ...  1.1417643e-08 .. 5.748652e-06\n",
       "   10 RMJ213512.1-010258.5 ...  1.6013972e-06 .. 7.143569e-06\n",
       "   21 RMJ004103.6-442958.7 ...   1.55002e-08 .. 1.7606976e-06\n",
       "    6 RMJ004050.0-440750.3 ... 1.0723813e-08 .. 1.7162017e-06\n",
       "  ...                  ... ...                            ...\n",
       " 3833 RMJ003445.3-591036.4 ... 9.8453114e-11 .. 3.5507433e-06\n",
       "11976 RMJ053853.4-542407.7 ... 8.5501536e-11 .. 3.4668592e-06\n",
       "13407 RMJ021105.5-425156.1 ... 1.2533497e-08 .. 1.7464507e-06\n",
       "17444 RMJ032431.0-592948.0 ...  6.0225474e-08 .. 1.781552e-06\n",
       "14722 RMJ050830.2-520414.5 ... 2.6739053e-07 .. 3.2941591e-06\n",
       " 9329 RMJ215854.1-003247.1 ... 2.6905295e-07 .. 1.7906463e-06\n",
       "13098 RMJ041709.4-480906.4 ... 3.5674788e-14 .. 3.3468943e-06\n",
       "16688 RMJ004205.3-505334.3 ...   2.2628055e-09 .. 3.78714e-06\n",
       "15485 RMJ230948.6-473253.8 ... 4.7101293e-13 .. 1.9833922e-06\n",
       "23424 RMJ231741.0-462526.5 ... 2.9126063e-08 .. 1.9657878e-06"
      ]
     },
     "execution_count": 35,
     "metadata": {},
     "output_type": "execute_result"
    }
   ],
   "source": [
    "cluster_table[z_mask]"
   ]
  },
  {
   "cell_type": "code",
   "execution_count": 21,
   "metadata": {},
   "outputs": [
    {
     "data": {
      "text/plain": [
       "<TableColumns names=('ID','RA','DEC','R','P','P_FREE','THETA_I','THETA_R','MAG_AUTO_G','MAGERR_AUTO_G','MAG_AUTO_R','MAGERR_AUTO_R','MAG_AUTO_I','MAGERR_AUTO_I','MAG_AUTO_Z','MAGERR_AUTO_Z','Z_SPEC','COADD_OBJECTS_ID')>"
      ]
     },
     "execution_count": 21,
     "metadata": {},
     "output_type": "execute_result"
    }
   ],
   "source": [
    "member_table.columns"
   ]
  },
  {
   "cell_type": "code",
   "execution_count": 22,
   "metadata": {},
   "outputs": [
    {
     "data": {
      "text/plain": [
       "<TableColumns names=('RA','DEC','Z','LAMBDA','WEIGHT')>"
      ]
     },
     "execution_count": 22,
     "metadata": {},
     "output_type": "execute_result"
    }
   ],
   "source": [
    "random_table.columns"
   ]
  },
  {
   "cell_type": "code",
   "execution_count": 2,
   "metadata": {},
   "outputs": [],
   "source": [
    "SHAPE_PATH = \"/global/cfs/cdirs/des/zhou/clmm/clmm_on_DES/data/mcal-y1a1-combined-riz-unblind-v4-matched.fits\""
   ]
  },
  {
   "cell_type": "code",
   "execution_count": null,
   "metadata": {},
   "outputs": [],
   "source": [
    "mcal_column_names = [\n",
    "    \"e1\", \"e2\", \"ra\", \"dec\", \"coadd_objects_id\", \"flags_select\"\n",
    "]\n",
    "\n",
    "mcal_fits = fio.FITS(MCAL_PATH)\n",
    "\n",
    "shape = mcal_fits[1].read(\n",
    "    columns=mcal_column_names).byteswap().newbyteorder()\n",
    "\n",
    "print(\"Shape catalog loaded\")\n"
   ]
  },
  {
   "cell_type": "markdown",
   "metadata": {},
   "source": [
    "# Running CLMM on the dataset"
   ]
  },
  {
   "cell_type": "code",
   "execution_count": 6,
   "metadata": {},
   "outputs": [],
   "source": [
    "from clmm import Cosmology\n",
    "cosmo = Cosmology(H0=70.0, Omega_dm0=0.27-0.045, Omega_b0=0.045, Omega_k0=0.0)"
   ]
  },
  {
   "cell_type": "code",
   "execution_count": null,
   "metadata": {},
   "outputs": [],
   "source": []
  }
 ],
 "metadata": {
  "kernelspec": {
   "display_name": "Python 3.9.7 ('clmm')",
   "language": "python",
   "name": "python3"
  },
  "language_info": {
   "codemirror_mode": {
    "name": "ipython",
    "version": 3
   },
   "file_extension": ".py",
   "mimetype": "text/x-python",
   "name": "python",
   "nbconvert_exporter": "python",
   "pygments_lexer": "ipython3",
   "version": "3.9.7"
  },
  "orig_nbformat": 4,
  "vscode": {
   "interpreter": {
    "hash": "a94171088571139ba748a7d3ea99c91290e7e2644823e6e66d42c9c9bb0aad7e"
   }
  }
 },
 "nbformat": 4,
 "nbformat_minor": 2
}
